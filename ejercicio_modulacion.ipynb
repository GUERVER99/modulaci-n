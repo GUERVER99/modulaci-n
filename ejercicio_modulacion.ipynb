{
 "cells": [
  {
   "cell_type": "code",
   "execution_count": 3,
   "id": "f434002e-81c9-42a2-a54b-368c5d69908f",
   "metadata": {},
   "outputs": [
    {
     "data": {
      "application/vnd.jupyter.widget-view+json": {
       "model_id": "81e4a0b448ae44709aba417c86df6d98",
       "version_major": 2,
       "version_minor": 0
      },
      "text/plain": [
       "interactive(children=(FloatSlider(value=5.0, description='Amplitud Moduladora', max=10.0), IntSlider(value=400…"
      ]
     },
     "metadata": {},
     "output_type": "display_data"
    },
    {
     "data": {
      "text/plain": [
       "<function __main__.plot_signals(A_m, f_m, A_p, f_p, ka)>"
      ]
     },
     "execution_count": 3,
     "metadata": {},
     "output_type": "execute_result"
    }
   ],
   "source": [
    "import numpy as np\n",
    "import matplotlib.pyplot as plt\n",
    "import ipywidgets as widgets\n",
    "from ipywidgets import interact\n",
    "\n",
    "# Definir función para generar y graficar las señales\n",
    "def plot_signals(A_m, f_m, A_p, f_p, ka):\n",
    "    t = np.linspace(0, 1, 1000)\n",
    "    \n",
    "    moduladora = A_m * np.cos(2 * np.pi * f_m * t)\n",
    "    portadora = A_p * np.cos(2 * np.pi * f_p * t)\n",
    "    modulacion_AM = A_p * (1 + ka * np.cos(2 * np.pi * f_m * t)) * np.cos(2 * np.pi * f_p * t)\n",
    "\n",
    "    plt.figure(figsize=(12, 8))\n",
    "\n",
    "    # Señal moduladora\n",
    "    plt.subplot(3, 1, 1)\n",
    "    plt.title(\"Señal de Mensaje o Moduladora\")\n",
    "    plt.plot(t, moduladora, 'g')\n",
    "    plt.ylabel('Amplitud')\n",
    "    plt.grid(True)\n",
    "\n",
    "    # Señal portadora\n",
    "    plt.subplot(3, 1, 2)\n",
    "    plt.title(\"Señal Portadora\")\n",
    "    plt.plot(t, portadora, 'r')\n",
    "    plt.ylabel('Amplitud')\n",
    "    plt.grid(True)\n",
    "\n",
    "    # Señal AM\n",
    "    plt.subplot(3, 1, 3)\n",
    "    plt.title(\"Modulación AM\")\n",
    "    plt.plot(t, modulacion_AM, color='purple')\n",
    "    plt.ylabel('Amplitud')\n",
    "    plt.xlabel('Tiempo (s)')\n",
    "    plt.grid(True)\n",
    "\n",
    "    plt.tight_layout()\n",
    "    plt.show()\n",
    "\n",
    "# Crear interfaz interactiva\n",
    "interact(\n",
    "    plot_signals,\n",
    "    A_m=widgets.FloatSlider(value=5, min=0, max=10, step=0.1, description='Amplitud Moduladora'),\n",
    "    f_m=widgets.IntSlider(value=4000, min=100, max=10000, step=100, description='Frecuencia Moduladora (Hz)'),\n",
    "    A_p=widgets.FloatSlider(value=5, min=0, max=10, step=0.1, description='Amplitud Portadora'),\n",
    "    f_p=widgets.IntSlider(value=40000, min=10000, max=100000, step=1000, description='Frecuencia Portadora (Hz)'),\n",
    "    ka=widgets.FloatSlider(value=3, min=0, max=10, step=0.1, description='Índice de Modulación')\n",
    ")\n"
   ]
  },
  {
   "cell_type": "code",
   "execution_count": null,
   "id": "823d05fd-48c7-4d4f-a057-74bb6e831a7f",
   "metadata": {},
   "outputs": [],
   "source": []
  }
 ],
 "metadata": {
  "kernelspec": {
   "display_name": "Python 3 (ipykernel)",
   "language": "python",
   "name": "python3"
  },
  "language_info": {
   "codemirror_mode": {
    "name": "ipython",
    "version": 3
   },
   "file_extension": ".py",
   "mimetype": "text/x-python",
   "name": "python",
   "nbconvert_exporter": "python",
   "pygments_lexer": "ipython3",
   "version": "3.11.7"
  }
 },
 "nbformat": 4,
 "nbformat_minor": 5
}
